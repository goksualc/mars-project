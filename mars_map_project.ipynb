{
  "nbformat": 4,
  "nbformat_minor": 0,
  "metadata": {
    "colab": {
      "provenance": [],
      "authorship_tag": "ABX9TyOuAQHGEpWMPvTpGjMjYKyW",
      "include_colab_link": true
    },
    "kernelspec": {
      "name": "python3",
      "display_name": "Python 3"
    },
    "language_info": {
      "name": "python"
    }
  },
  "cells": [
    {
      "cell_type": "markdown",
      "metadata": {
        "id": "view-in-github",
        "colab_type": "text"
      },
      "source": [
        "<a href=\"https://colab.research.google.com/github/goksualc/mars-project/blob/main/mars_map_project.ipynb\" target=\"_parent\"><img src=\"https://colab.research.google.com/assets/colab-badge.svg\" alt=\"Open In Colab\"/></a>"
      ]
    },
    {
      "cell_type": "code",
      "execution_count": 1,
      "metadata": {
        "colab": {
          "base_uri": "https://localhost:8080/"
        },
        "id": "F30LSgYUS9rJ",
        "outputId": "595bb311-d41e-452b-d601-7265e79f04a3"
      },
      "outputs": [
        {
          "output_type": "stream",
          "name": "stdout",
          "text": [
            "Mounted at /content/drive\n",
            "Yüklenen görüntü sayısı: 24\n"
          ]
        }
      ],
      "source": [
        "from google.colab import drive\n",
        "import cv2\n",
        "import numpy as np\n",
        "import os\n",
        "import matplotlib.pyplot as plt\n",
        "\n",
        "# Google Drive'ı bağla\n",
        "drive.mount('/content/drive')\n",
        "\n",
        "# Görsellerin bulunduğu dizin\n",
        "image_dir = \"/content/drive/MyDrive/map-project/\"\n",
        "\n",
        "# Görselleri yükleme fonksiyonu\n",
        "def load_images(folder):\n",
        "    images = []\n",
        "    image_names = []\n",
        "    for filename in os.listdir(folder):\n",
        "        img_path = os.path.join(folder, filename)\n",
        "        img = cv2.imread(img_path, cv2.IMREAD_GRAYSCALE)  # Siyah-beyaz yükleme\n",
        "        if img is not None:\n",
        "            img = cv2.resize(img, (128, 128))  # Küçültme\n",
        "            images.append(img)\n",
        "            image_names.append(filename)\n",
        "    return np.array(images), image_names\n",
        "\n",
        "# Veri setini yükleyelim\n",
        "images, image_names = load_images(image_dir)\n",
        "print(f\"Yüklenen görüntü sayısı: {len(images)}\")\n"
      ]
    }
  ]
}